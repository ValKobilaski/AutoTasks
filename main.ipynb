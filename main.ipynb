{
 "cells": [
  {
   "cell_type": "code",
   "execution_count": 36,
   "metadata": {},
   "outputs": [],
   "source": [
    "#import stuff\n",
    "from google.auth.transport.requests import Request\n",
    "from google.oauth2.credentials import Credentials\n",
    "from google_auth_oauthlib.flow import InstalledAppFlow\n",
    "from googleapiclient.discovery import build\n",
    "from pathlib import Path"
   ]
  },
  {
   "cell_type": "code",
   "execution_count": 37,
   "metadata": {},
   "outputs": [],
   "source": [
    "SCOPES = [\"https://www.googleapis.com/auth/script.projects\",\n",
    "          \"https://www.googleapis.com/auth/tasks\"]\n",
    "CRED_PATH = Path(\"secrets/credentials.json\")\n",
    "\n",
    "def get_credentials(cred_path : Path ,\n",
    "                    token_dest : Path = Path(\"secrets/token.json\")) -> Credentials:\n",
    "\n",
    "    cred_path = cred_path.resolve()\n",
    "    token_dest = token_dest.resolve()\n",
    "\n",
    "    creds = None\n",
    "\n",
    "    if token_dest.exists():\n",
    "        creds = Credentials.from_authorized_user_file(token_dest, SCOPES)\n",
    "    if not creds or not creds.valid:\n",
    "        if creds and creds.expired and creds.refresh_token:\n",
    "            creds.refresh(Request())\n",
    "        else:\n",
    "            flow = InstalledAppFlow.from_client_secrets_file(cred_path, SCOPES)\n",
    "        creds = flow.run_local_server(port=0)\n",
    "        with open(token_dest,\"w\") as token:\n",
    "            token.write(creds.to_json())\n",
    "    \n",
    "    return creds\n",
    "\n",
    "creds = get_credentials(CRED_PATH)\n"
   ]
  },
  {
   "cell_type": "code",
   "execution_count": 38,
   "metadata": {},
   "outputs": [],
   "source": [
    "def start_service():\n",
    "    service = build(\"tasks\", \"v1\", credentials = creds)\n",
    "    return service\n",
    "\n",
    "serv = start_service()"
   ]
  },
  {
   "cell_type": "code",
   "execution_count": 39,
   "metadata": {},
   "outputs": [
    {
     "data": {
      "text/plain": [
       "[{'kind': 'tasks#taskList',\n",
       "  'id': 'MDI1NDI3OTg2MjMzNjU1OTg3NTc6MDow',\n",
       "  'etag': '\"OTQ5NTE2OTk2\"',\n",
       "  'title': 'My Tasks',\n",
       "  'updated': '2025-02-24T15:34:31.984Z',\n",
       "  'selfLink': 'https://www.googleapis.com/tasks/v1/users/@me/lists/MDI1NDI3OTg2MjMzNjU1OTg3NTc6MDow'},\n",
       " {'kind': 'tasks#taskList',\n",
       "  'id': 'dHZNa3ZHcDczc2NWbGtGUw',\n",
       "  'etag': '\"LTEwMjcxMjkzMTM\"',\n",
       "  'title': 'Long term',\n",
       "  'updated': '2025-02-01T18:30:25.940Z',\n",
       "  'selfLink': 'https://www.googleapis.com/tasks/v1/users/@me/lists/dHZNa3ZHcDczc2NWbGtGUw'},\n",
       " {'kind': 'tasks#taskList',\n",
       "  'id': 'bjlMUkZ4bFBpdm1YekdmUg',\n",
       "  'etag': '\"LTE4MzQ2ODg0MDM\"',\n",
       "  'title': 'Today',\n",
       "  'updated': '2023-01-08T18:29:17.387Z',\n",
       "  'selfLink': 'https://www.googleapis.com/tasks/v1/users/@me/lists/bjlMUkZ4bFBpdm1YekdmUg'}]"
      ]
     },
     "execution_count": 39,
     "metadata": {},
     "output_type": "execute_result"
    }
   ],
   "source": [
    "results = serv.tasklists().list(maxResults=10).execute()\n",
    "items = results.get(\"items\", [])\n",
    "items\n"
   ]
  },
  {
   "cell_type": "code",
   "execution_count": 46,
   "metadata": {},
   "outputs": [
    {
     "data": {
      "text/plain": [
       "{'kind': 'tasks#tasks',\n",
       " 'etag': '\"LTE4MzQ2ODg0MDM\"',\n",
       " 'items': [{'kind': 'tasks#task',\n",
       "   'id': 'dGZhLVY1Um1RV2ZMTmE4Vw',\n",
       "   'etag': '\"MjAzODcwNjIyOA\"',\n",
       "   'title': 'Password reset for ARIA',\n",
       "   'updated': '2023-01-03T21:23:04.000Z',\n",
       "   'selfLink': 'https://www.googleapis.com/tasks/v1/lists/bjlMUkZ4bFBpdm1YekdmUg/tasks/dGZhLVY1Um1RV2ZMTmE4Vw',\n",
       "   'position': '00000000000000000000',\n",
       "   'status': 'needsAction',\n",
       "   'links': [],\n",
       "   'webViewLink': 'https://tasks.google.com/task/tfa-V5RmQWfLNa8W?sa=6'}]}"
      ]
     },
     "execution_count": 46,
     "metadata": {},
     "output_type": "execute_result"
    }
   ],
   "source": [
    "results_tasklist = serv.tasks().list(tasklist=\"bjlMUkZ4bFBpdm1YekdmUg\").execute()\n",
    "results_tasklist"
   ]
  },
  {
   "cell_type": "code",
   "execution_count": null,
   "metadata": {},
   "outputs": [],
   "source": [
    "task_body = \"{}\"\n",
    "results_insert = serv.tasks().insert(tasklist =\"bjlMUkZ4bFBpdm1YekdmUg\")"
   ]
  }
 ],
 "metadata": {
  "kernelspec": {
   "display_name": "venv",
   "language": "python",
   "name": "python3"
  },
  "language_info": {
   "codemirror_mode": {
    "name": "ipython",
    "version": 3
   },
   "file_extension": ".py",
   "mimetype": "text/x-python",
   "name": "python",
   "nbconvert_exporter": "python",
   "pygments_lexer": "ipython3",
   "version": "3.8.10"
  }
 },
 "nbformat": 4,
 "nbformat_minor": 2
}
